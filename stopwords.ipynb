{
 "cells": [
  {
   "cell_type": "code",
   "execution_count": 109,
   "id": "47ee2647",
   "metadata": {},
   "outputs": [
    {
     "name": "stdout",
     "output_type": "stream",
     "text": [
      "etape 1:#split the list\n",
      "['Why', 'is', 'it', 'always', 'the', 'innocents', 'who', 'suffer', 'most', 'when', 'you', 'high', 'Lords', 'play', 'your', 'Game', 'of', 'Thrones']\n",
      "   \n",
      "etape 2:#lowercase all the words\n",
      "['why', 'is', 'it', 'always', 'the', 'innocents', 'who', 'suffer', 'most', 'when', 'you', 'high', 'lords', 'play', 'your', 'game', 'of', 'thrones']\n",
      " \n",
      "etape 3: #remove stop words from the list to create `tokens`\n",
      "always innocents suffer high lords play game thrones\n"
     ]
    }
   ],
   "source": [
    "\n",
    "\n",
    "   sentence = (\"Why is it always the innocents who suffer most \"\n",
    "               \" when you high Lords play your Game of Thrones\")\n",
    "\n",
    "   stopwords =  ['about', 'once', 'during', 'out', 'very', 'having', 'with', 'they', 'own',\n",
    "   'an', 'be', 'some', 'for', 'do', 'its', 'yours', 'such', 'into', 'of',\n",
    "   'most', 'itself', 'other', 'off', 'is', 's', 'am', 'or', 'who', 'as',\n",
    "   'from', 'him', 'each', 'the', 'themselves', 'until', 'below', 'are', 'we',\n",
    "   'these', 'your', 'his', 'through', 'don', 'nor', 'me', 'were', 'her',\n",
    "   'more', 'himself', 'this', 'down', 'should', 'our', 'their', 'while',\n",
    "   'above', 'both', 'up', 'to', 'ours', 'had', 'she', 'all', 'no', 'when',\n",
    "   'at', 'any', 'before', 'them', 'same', 'and', 'been', 'have', 'in', 'will',\n",
    "   'on', 'does', 'yourselves', 'then', 'that', 'because', 'what', 'over',\n",
    "   'why', 'so', 'can', 'did', 'not', 'now', 'under', 'he', 'you', 'herself',\n",
    "   'has', 'just', 'where', 'too', 'only', 'myself', 'which', 'those', 'i',\n",
    "   'after', 'few', 'whom', 't', 'being', 'if', 'theirs', 'my', 'against', 'a',\n",
    "   'by', 'doing', 'it', 'how', 'further', 'was', 'here', 'than']\n",
    "\n",
    "   # TODO: split the sentence into a list of `words`\n",
    "print('etape 1:#split the list')\n",
    "\n",
    "splitString = sentence.split()\n",
    "    \n",
    "print(splitString)\n",
    "print('   ')\n",
    "   # TODO: lowercase all the words in a single line of code\n",
    "    \n",
    "print('etape 2:#lowercase all the words')\n",
    "splitString = list(map(lambda x: x.lower(), splitString))\n",
    "print(splitString)\n",
    "print(' ')\n",
    "#print(sentence.lower())\n",
    "   # TODO: remove stop words from your list to create `tokens` in a single line of code\n",
    "   # delete stopwords from text\n",
    "print('etape 3: #remove stop words from the list to create `tokens`')\n",
    "sentenceWithoutStopWords =  ' '.join([word for word in splitString if word not in stopwords]) \n",
    "print(sentenceWithoutStopWords)\n"
   ]
  },
  {
   "cell_type": "code",
   "execution_count": null,
   "id": "bb37e020",
   "metadata": {},
   "outputs": [],
   "source": []
  },
  {
   "cell_type": "code",
   "execution_count": null,
   "id": "ed4378a3",
   "metadata": {},
   "outputs": [],
   "source": []
  }
 ],
 "metadata": {
  "kernelspec": {
   "display_name": "Python 3 (ipykernel)",
   "language": "python",
   "name": "python3"
  },
  "language_info": {
   "codemirror_mode": {
    "name": "ipython",
    "version": 3
   },
   "file_extension": ".py",
   "mimetype": "text/x-python",
   "name": "python",
   "nbconvert_exporter": "python",
   "pygments_lexer": "ipython3",
   "version": "3.9.7"
  }
 },
 "nbformat": 4,
 "nbformat_minor": 5
}
